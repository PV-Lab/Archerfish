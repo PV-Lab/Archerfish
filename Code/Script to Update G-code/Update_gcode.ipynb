{
 "cells": [
  {
   "cell_type": "code",
   "execution_count": 1,
   "id": "f8fb4d6a",
   "metadata": {},
   "outputs": [],
   "source": [
    "# import\n",
    "import numpy as np\n",
    "import pandas as pd\n",
    "import os"
   ]
  },
  {
   "cell_type": "code",
   "execution_count": 18,
   "id": "86be20f5",
   "metadata": {},
   "outputs": [],
   "source": [
    "# file path\n",
    "gcode = 'Gantry_Gcode.txt'\n",
    "df = pd.read_csv(gcode, header=None, sep=' ')\n",
    "# X- adjust\n",
    "xadj = -20\n",
    "xmult = 1.2\n",
    "# Y- adjust\n",
    "yadj = -20\n",
    "ymult = 1\n",
    "# Speed adjust\n",
    "speedmult = 1\n",
    "# Reverse \n",
    "reverse = False"
   ]
  },
  {
   "cell_type": "code",
   "execution_count": 19,
   "id": "1541d374",
   "metadata": {},
   "outputs": [
    {
     "name": "stdout",
     "output_type": "stream",
     "text": [
      "Gcode before adjustment\n"
     ]
    },
    {
     "data": {
      "text/html": [
       "<div>\n",
       "<style scoped>\n",
       "    .dataframe tbody tr th:only-of-type {\n",
       "        vertical-align: middle;\n",
       "    }\n",
       "\n",
       "    .dataframe tbody tr th {\n",
       "        vertical-align: top;\n",
       "    }\n",
       "\n",
       "    .dataframe thead th {\n",
       "        text-align: right;\n",
       "    }\n",
       "</style>\n",
       "<table border=\"1\" class=\"dataframe\">\n",
       "  <thead>\n",
       "    <tr style=\"text-align: right;\">\n",
       "      <th></th>\n",
       "      <th>0</th>\n",
       "      <th>1</th>\n",
       "      <th>2</th>\n",
       "      <th>3</th>\n",
       "    </tr>\n",
       "  </thead>\n",
       "  <tbody>\n",
       "    <tr>\n",
       "      <th>0</th>\n",
       "      <td>G0</td>\n",
       "      <td>X26.989</td>\n",
       "      <td>Y68.792</td>\n",
       "      <td>F2280</td>\n",
       "    </tr>\n",
       "    <tr>\n",
       "      <th>1</th>\n",
       "      <td>G0</td>\n",
       "      <td>X26.989</td>\n",
       "      <td>Y105.284</td>\n",
       "      <td>F2280</td>\n",
       "    </tr>\n",
       "    <tr>\n",
       "      <th>2</th>\n",
       "      <td>G0</td>\n",
       "      <td>X26.989</td>\n",
       "      <td>Y105.287</td>\n",
       "      <td>NaN</td>\n",
       "    </tr>\n",
       "    <tr>\n",
       "      <th>3</th>\n",
       "      <td>G0</td>\n",
       "      <td>X26.99</td>\n",
       "      <td>Y105.208</td>\n",
       "      <td>F3600</td>\n",
       "    </tr>\n",
       "    <tr>\n",
       "      <th>4</th>\n",
       "      <td>G0</td>\n",
       "      <td>X32.489</td>\n",
       "      <td>Y105.284</td>\n",
       "      <td>NaN</td>\n",
       "    </tr>\n",
       "  </tbody>\n",
       "</table>\n",
       "</div>"
      ],
      "text/plain": [
       "    0        1         2      3\n",
       "0  G0  X26.989   Y68.792  F2280\n",
       "1  G0  X26.989  Y105.284  F2280\n",
       "2  G0  X26.989  Y105.287    NaN\n",
       "3  G0   X26.99  Y105.208  F3600\n",
       "4  G0  X32.489  Y105.284    NaN"
      ]
     },
     "execution_count": 19,
     "metadata": {},
     "output_type": "execute_result"
    }
   ],
   "source": [
    "print('Gcode before adjustment')\n",
    "df.head()"
   ]
  },
  {
   "cell_type": "code",
   "execution_count": 20,
   "id": "54748aeb",
   "metadata": {},
   "outputs": [],
   "source": [
    "df_adj = df.copy().rename(columns={0:'Comm', 1:'X', 2:'Y', 3:'Speed'})\n",
    "ypos = df.iloc[:,2].str.split('Y')\n",
    "xpos = df.iloc[:,1].str.split('X')\n",
    "for i, (x, y) in enumerate(zip(xpos,ypos)):\n",
    "    df_adj.iloc[i, 1] = (float(x[1]))\n",
    "    df_adj.iloc[i, 2] = (float(y[1]))\n",
    "    \n",
    "# make adjustment\n",
    "df_adj.loc[:,'Y'] = (df_adj.loc[:,'Y'] + yadj) * ymult\n",
    "df_adj.loc[:,'X'] = (df_adj.loc[:,'X'] + xadj) * xmult\n",
    "df_adj.loc[:,'Speed'] = (df_adj.loc[:,'Speed']) * speedmult\n",
    "\n",
    "# update df\n",
    "x = pd.Series(['X']*len(xpos))\n",
    "y = pd.Series(['Y']*len(ypos))\n",
    "df_adj.loc[:,'Y'] = y + (df_adj.loc[:,'Y']).astype(str)\n",
    "df_adj.loc[:,'X'] = x + (df_adj.loc[:,'X']).astype(str)\n",
    "\n",
    "if reverse:\n",
    "    df_adj = df_adj.iloc[::-1]\n",
    "\n",
    "# save gcode\n",
    "df_adj.to_csv(os.path.dirname(gcode)+'\\\\Gcode_adjusted.txt', sep = ' ', header=False, index=False)"
   ]
  },
  {
   "cell_type": "code",
   "execution_count": 21,
   "id": "9c670053",
   "metadata": {},
   "outputs": [
    {
     "name": "stdout",
     "output_type": "stream",
     "text": [
      "Gcode after adjustment\n"
     ]
    },
    {
     "data": {
      "text/html": [
       "<div>\n",
       "<style scoped>\n",
       "    .dataframe tbody tr th:only-of-type {\n",
       "        vertical-align: middle;\n",
       "    }\n",
       "\n",
       "    .dataframe tbody tr th {\n",
       "        vertical-align: top;\n",
       "    }\n",
       "\n",
       "    .dataframe thead th {\n",
       "        text-align: right;\n",
       "    }\n",
       "</style>\n",
       "<table border=\"1\" class=\"dataframe\">\n",
       "  <thead>\n",
       "    <tr style=\"text-align: right;\">\n",
       "      <th></th>\n",
       "      <th>Comm</th>\n",
       "      <th>X</th>\n",
       "      <th>Y</th>\n",
       "      <th>Speed</th>\n",
       "    </tr>\n",
       "  </thead>\n",
       "  <tbody>\n",
       "    <tr>\n",
       "      <th>0</th>\n",
       "      <td>G0</td>\n",
       "      <td>X8.386800000000001</td>\n",
       "      <td>Y48.792</td>\n",
       "      <td>F2280</td>\n",
       "    </tr>\n",
       "    <tr>\n",
       "      <th>1</th>\n",
       "      <td>G0</td>\n",
       "      <td>X8.386800000000001</td>\n",
       "      <td>Y85.284</td>\n",
       "      <td>F2280</td>\n",
       "    </tr>\n",
       "    <tr>\n",
       "      <th>2</th>\n",
       "      <td>G0</td>\n",
       "      <td>X8.386800000000001</td>\n",
       "      <td>Y85.287</td>\n",
       "      <td>NaN</td>\n",
       "    </tr>\n",
       "    <tr>\n",
       "      <th>3</th>\n",
       "      <td>G0</td>\n",
       "      <td>X8.387999999999998</td>\n",
       "      <td>Y85.208</td>\n",
       "      <td>F3600</td>\n",
       "    </tr>\n",
       "    <tr>\n",
       "      <th>4</th>\n",
       "      <td>G0</td>\n",
       "      <td>X14.986799999999995</td>\n",
       "      <td>Y85.284</td>\n",
       "      <td>NaN</td>\n",
       "    </tr>\n",
       "  </tbody>\n",
       "</table>\n",
       "</div>"
      ],
      "text/plain": [
       "  Comm                    X        Y  Speed\n",
       "0   G0   X8.386800000000001  Y48.792  F2280\n",
       "1   G0   X8.386800000000001  Y85.284  F2280\n",
       "2   G0   X8.386800000000001  Y85.287    NaN\n",
       "3   G0   X8.387999999999998  Y85.208  F3600\n",
       "4   G0  X14.986799999999995  Y85.284    NaN"
      ]
     },
     "execution_count": 21,
     "metadata": {},
     "output_type": "execute_result"
    }
   ],
   "source": [
    "print('Gcode after adjustment')\n",
    "df_adj.head()"
   ]
  },
  {
   "cell_type": "code",
   "execution_count": null,
   "id": "5030b0b8",
   "metadata": {},
   "outputs": [],
   "source": []
  },
  {
   "cell_type": "code",
   "execution_count": null,
   "id": "1e387f49",
   "metadata": {},
   "outputs": [],
   "source": []
  }
 ],
 "metadata": {
  "kernelspec": {
   "display_name": "Python 3 (ipykernel)",
   "language": "python",
   "name": "python3"
  },
  "language_info": {
   "codemirror_mode": {
    "name": "ipython",
    "version": 3
   },
   "file_extension": ".py",
   "mimetype": "text/x-python",
   "name": "python",
   "nbconvert_exporter": "python",
   "pygments_lexer": "ipython3",
   "version": "3.9.19"
  }
 },
 "nbformat": 4,
 "nbformat_minor": 5
}